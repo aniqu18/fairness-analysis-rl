{
 "cells": [
  {
   "cell_type": "markdown",
   "id": "eca21663",
   "metadata": {},
   "source": [
    "## Load models"
   ]
  },
  {
   "cell_type": "code",
   "execution_count": 2,
   "id": "cfa9007a",
   "metadata": {},
   "outputs": [],
   "source": [
    "import torch\n",
    "import pickle\n",
    "import numpy as np\n",
    "import pandas as pd\n",
    "from sklearn.metrics import accuracy_score, f1_score, precision_score, recall_score\n",
    "\n",
    "# === Paths ===\n",
    "MODELS_DIR = \"../models\"\n",
    "MODEL_ORIG_PKL = f\"{MODELS_DIR}/dqn_original.pkl\"\n",
    "MODEL_RES_PKL = f\"{MODELS_DIR}/dqn_resampled.pkl\"\n",
    "\n",
    "\n",
    "# === Load models ===\n",
    "# Load from pickle\n",
    "with open(MODEL_ORIG_PKL, \"rb\") as f:\n",
    "    model_orig = pickle.load(f)\n",
    "with open(MODEL_RES_PKL, \"rb\") as f:\n",
    "    model_res = pickle.load(f)\n",
    "\n",
    "# === Evaluation helper ===\n",
    "def evaluate_model(model, X):\n",
    "    model.eval()\n",
    "    with torch.no_grad():\n",
    "        X_tensor = torch.tensor(X, dtype=torch.float32)\n",
    "        preds = model(X_tensor).argmax(dim=1).cpu().numpy()\n",
    "    return preds"
   ]
  },
  {
   "cell_type": "markdown",
   "id": "be68229f",
   "metadata": {},
   "source": [
    "## Load data"
   ]
  },
  {
   "cell_type": "code",
   "execution_count": 7,
   "id": "af43cce0",
   "metadata": {},
   "outputs": [],
   "source": [
    "DATA_DIR = \"../data\"\n",
    "X_test = pd.read_csv(f\"{DATA_DIR}/X_test.csv\").values.astype(np.float32)\n",
    "X_train = pd.read_csv(f\"{DATA_DIR}/X_train.csv\").values.astype(np.float32)\n",
    "y_test = pd.read_csv(f\"{DATA_DIR}/y_test.csv\").values.astype(int)\n",
    "y_train = pd.read_csv(f\"{DATA_DIR}/y_train.csv\").values.astype(int)"
   ]
  },
  {
   "cell_type": "markdown",
   "id": "7714242d",
   "metadata": {},
   "source": [
    "## Evaluate"
   ]
  },
  {
   "cell_type": "code",
   "execution_count": 8,
   "id": "6629eb27",
   "metadata": {},
   "outputs": [
    {
     "data": {
      "text/plain": [
       "0.44565217391304346"
      ]
     },
     "execution_count": 8,
     "metadata": {},
     "output_type": "execute_result"
    }
   ],
   "source": [
    "preds = evaluate_model(model_orig, X_test)\n",
    "accuracy = accuracy_score(y_test, preds)\n",
    "accuracy"
   ]
  },
  {
   "cell_type": "code",
   "execution_count": 10,
   "id": "875f4560",
   "metadata": {},
   "outputs": [
    {
     "data": {
      "text/plain": [
       "0.4470108695652174"
      ]
     },
     "execution_count": 10,
     "metadata": {},
     "output_type": "execute_result"
    }
   ],
   "source": [
    "preds = evaluate_model(model_orig, X_train)\n",
    "accuracy = accuracy_score(y_train, preds)\n",
    "accuracy"
   ]
  }
 ],
 "metadata": {
  "kernelspec": {
   "display_name": "fairness-analysis-rl",
   "language": "python",
   "name": "python3"
  },
  "language_info": {
   "codemirror_mode": {
    "name": "ipython",
    "version": 3
   },
   "file_extension": ".py",
   "mimetype": "text/x-python",
   "name": "python",
   "nbconvert_exporter": "python",
   "pygments_lexer": "ipython3",
   "version": "3.12.12"
  }
 },
 "nbformat": 4,
 "nbformat_minor": 5
}
