{
 "cells": [
  {
   "cell_type": "code",
   "execution_count": 7,
   "id": "977ac058",
   "metadata": {},
   "outputs": [],
   "source": [
    "import torch\n",
    "import pickle\n",
    "import numpy as np\n",
    "import pandas as pd\n",
    "from sklearn.metrics import accuracy_score, f1_score, precision_score, recall_score\n",
    "\n",
    "# === Paths ===\n",
    "MODELS_DIR = \"../../models\"\n",
    "MODEL_ORIG_PKL = f\"{MODELS_DIR}/dqn_original.pkl\"\n",
    "MODEL_RES_PKL = f\"{MODELS_DIR}/dqn_resampled.pkl\"\n",
    "\n",
    "\n",
    "# === Load models ===\n",
    "# Load from pickle\n",
    "with open(MODEL_ORIG_PKL, \"rb\") as f:\n",
    "    model_orig = pickle.load(f)\n",
    "with open(MODEL_RES_PKL, \"rb\") as f:\n",
    "    model_res = pickle.load(f)\n",
    "\n",
    "# === Evaluation helper ===\n",
    "def evaluate_model(model, X):\n",
    "    model.eval()\n",
    "    with torch.no_grad():\n",
    "        X_tensor = torch.tensor(X, dtype=torch.float32)\n",
    "        preds = model(X_tensor).argmax(dim=1).cpu().numpy()\n",
    "    return preds"
   ]
  },
  {
   "cell_type": "code",
   "execution_count": 9,
   "id": "bc0109eb",
   "metadata": {},
   "outputs": [
    {
     "data": {
      "text/plain": [
       "0.44565217391304346"
      ]
     },
     "execution_count": 9,
     "metadata": {},
     "output_type": "execute_result"
    }
   ],
   "source": [
    "X_test = pd.read_csv(f\"../../data/X_test.csv\").values.astype(np.float32)\n",
    "y_test = pd.read_csv(f\"../../data/y_test.csv\")\n",
    "\n",
    "preds = evaluate_model(model_orig, X_test)\n",
    "accuracy = accuracy_score(y_test, preds)\n",
    "accuracy"
   ]
  },
  {
   "cell_type": "code",
   "execution_count": 12,
   "id": "2a4485bb",
   "metadata": {},
   "outputs": [],
   "source": [
    "X_test_num = X_test"
   ]
  },
  {
   "cell_type": "code",
   "execution_count": 14,
   "id": "658dbe6c",
   "metadata": {},
   "outputs": [
    {
     "name": "stdout",
     "output_type": "stream",
     "text": [
      "            accuracy    recall        f1  n_samples\n",
      "Female (0)  0.361842  0.200000  0.106280      152.0\n",
      "Male (1)    0.843750  0.333333  0.305085       32.0\n"
     ]
    }
   ],
   "source": [
    "import pandas as pd\n",
    "from sklearn.metrics import accuracy_score, recall_score\n",
    "\n",
    "X_test = pd.read_csv('../../data/X_test.csv')\n",
    "y_test = pd.read_csv('../../data/y_test.csv')\n",
    "\n",
    "preds_test = evaluate_model(model_orig, X_test_num)\n",
    "\n",
    "\n",
    "X_test[\"pred\"] = preds_test      \n",
    "X_test[\"true\"] = y_test   \n",
    "\n",
    "# Protected attribute\n",
    "protected_attr = \"sex_Male\"  \n",
    "groups = X_test[protected_attr].unique()\n",
    "\n",
    "metrics = {}\n",
    "for g in groups:\n",
    "    group_df = X_test[X_test[protected_attr] == g]\n",
    "    n_samples = len(group_df)\n",
    "    acc = accuracy_score(group_df[\"true\"], group_df[\"pred\"])\n",
    "    rec = recall_score(group_df[\"true\"], group_df[\"pred\"], average=\"macro\")  \n",
    "    f1 = f1_score(group_df[\"true\"], group_df[\"pred\"], average=\"macro\")  \n",
    "    metrics[g] = {\"accuracy\": acc, \"recall\": rec, \"f1\": f1, \"n_samples\": n_samples}\n",
    "\n",
    "metrics_df = pd.DataFrame(metrics).T\n",
    "metrics_df.index = [\"Female (0)\", \"Male (1)\"] \n",
    "print(metrics_df)\n"
   ]
  },
  {
   "cell_type": "code",
   "execution_count": 15,
   "id": "f186748c",
   "metadata": {},
   "outputs": [],
   "source": [
    "df = pd.read_csv('../../data/age_analysis/Xy_test_age_analysis.csv')\n",
    "df.rename(columns={'num':'true'}, inplace=True)\n",
    "df['pred'] = preds_test"
   ]
  },
  {
   "cell_type": "code",
   "execution_count": 17,
   "id": "b71888d6",
   "metadata": {},
   "outputs": [
    {
     "name": "stdout",
     "output_type": "stream",
     "text": [
      "       accuracy  recall        f1  n_samples\n",
      "<40    0.666667    0.50  0.400000       18.0\n",
      "40-50  0.611111    0.25  0.189655       36.0\n",
      "50-60  0.437500    0.20  0.121739       80.0\n",
      "60+    0.260000    0.20  0.082540       50.0\n"
     ]
    }
   ],
   "source": [
    "from sklearn.metrics import accuracy_score, recall_score\n",
    "\n",
    "results = {}\n",
    "\n",
    "for group in df['age_group'].unique():\n",
    "    mask = df['age_group'] == group\n",
    "    y_true = df.loc[mask, 'true']\n",
    "    y_pred = df.loc[mask, 'pred']\n",
    "\n",
    "    acc = accuracy_score(y_true, y_pred)\n",
    "    rec = recall_score(y_true, y_pred, average='macro')\n",
    "    f1 = f1_score(y_true, y_pred, average='macro')\n",
    "\n",
    "    n_samples = len(y_true)\n",
    "\n",
    "    results[group] = {'accuracy': acc, 'recall': rec, 'f1': f1, 'n_samples': n_samples}\n",
    "\n",
    "age_results = pd.DataFrame(results).T\n",
    "order = [0, 3, 2, 1]\n",
    "age_results_ordered = age_results.iloc[order]\n",
    "print(age_results_ordered)\n",
    "\n"
   ]
  },
  {
   "cell_type": "code",
   "execution_count": 19,
   "id": "94f11f49",
   "metadata": {},
   "outputs": [
    {
     "data": {
      "image/png": "[encoded data removed]",
      "text/plain": [
       "<Figure size 800x400 with 1 Axes>"
      ]
     },
     "metadata": {},
     "output_type": "display_data"
    }
   ],
   "source": [
    "import matplotlib.pyplot as plt\n",
    "import pandas as pd\n",
    "import numpy as np\n",
    "from sklearn.metrics import accuracy_score, f1_score\n",
    "\n",
    "NUM_ACTIONS = 5\n",
    "\n",
    "# Load age analysis file\n",
    "df_age = pd.read_csv(\"../../data/age_analysis/Xy_test_age_analysis.csv\").rename(columns={\"num\": \"true\"})\n",
    "df_age['pred'] = df[\"pred\"]\n",
    "age_groups = sorted(df_age['age_group'].unique())\n",
    "acc_by_age = []\n",
    "f1_by_age = []\n",
    "cum_correct_by_age = []\n",
    "pred_rates_by_age = []\n",
    "\n",
    "for g in age_groups:\n",
    "        mask = df_age['age_group'] == g\n",
    "        y_true = df_age.loc[mask, 'true']\n",
    "        y_pred = df_age.loc[mask, 'pred']\n",
    "\n",
    "        acc_by_age.append(accuracy_score(y_true, y_pred)) # type: ignore\n",
    "        f1_by_age.append(f1_score(y_true, y_pred, average='macro')) # type: ignore\n",
    "        cum_correct_by_age.append(np.cumsum((y_pred==y_true).astype(int))) # type: ignore\n",
    "        pred_rates_by_age.append([(y_pred==c).mean() for c in range(NUM_ACTIONS)]) # type: ignore\n",
    "\n",
    "\n",
    "age_colors = plt.cm.viridis(np.linspace(0.3,0.8,len(age_groups))) # type: ignore\n",
    "\n",
    "\n",
    "x = np.arange(len(age_groups))\n",
    "width = 0.35\n",
    "plt.figure(figsize=(8,4))\n",
    "plt.bar(x - width/2, acc_by_age, width, label=\"Accuracy\", color='teal')\n",
    "plt.bar(x + width/2, f1_by_age, width, label=\"Macro F1\", color='olive')\n",
    "\n",
    "plt.xticks(x, age_groups)\n",
    "plt.ylim(0,1)\n",
    "plt.xlabel(\"Age Group\")\n",
    "plt.ylabel(\"Score\")\n",
    "plt.title(\"Contextual bandits - Accuracy and Macro F1 by Age Group\")\n",
    "plt.legend()\n",
    "plt.tight_layout()\n",
    "plt.show()"
   ]
  },
  {
   "cell_type": "code",
   "execution_count": 21,
   "id": "55348424",
   "metadata": {},
   "outputs": [
    {
     "data": {
      "image/png": "[encoded data removed]",
      "text/plain": [
       "<Figure size 800x400 with 1 Axes>"
      ]
     },
     "metadata": {},
     "output_type": "display_data"
    }
   ],
   "source": [
    "# Desired age order and display names\n",
    "desired_order = [\"<40\", \"40-50\", \"50-60\", \"60+\"]\n",
    "display_names = {\n",
    "    \"<40\": \"<=40\",\n",
    "    \"40-50\": \"41-50\",\n",
    "    \"50-60\": \"51-60\",\n",
    "    \"60+\": \">60\",\n",
    "}\n",
    "\n",
    "# Ensure only existing groups are used (in case some are missing)\n",
    "age_groups = [g for g in desired_order if g in df_age['age_group'].unique()]\n",
    "\n",
    "# === rest of your code ===\n",
    "acc_by_age = []\n",
    "f1_by_age = []\n",
    "cum_correct_by_age = []\n",
    "pred_rates_by_age = []\n",
    "\n",
    "for g in age_groups:\n",
    "    mask = df_age['age_group'] == g\n",
    "    y_true = df_age.loc[mask, 'true']\n",
    "    y_pred = df_age.loc[mask, 'pred']\n",
    "\n",
    "    acc_by_age.append(accuracy_score(y_true, y_pred))\n",
    "    f1_by_age.append(f1_score(y_true, y_pred, average='macro'))\n",
    "    cum_correct_by_age.append(np.cumsum((y_pred==y_true).astype(int)))\n",
    "    pred_rates_by_age.append([(y_pred==c).mean() for c in range(NUM_ACTIONS)])\n",
    "\n",
    "age_colors = plt.cm.viridis(np.linspace(0.3, 0.8, len(age_groups)))\n",
    "\n",
    "# === Plot ===\n",
    "x = np.arange(len(age_groups))\n",
    "width = 0.35\n",
    "plt.figure(figsize=(8, 4))\n",
    "plt.bar(x - width/2, acc_by_age, width, label=\"Accuracy\", color='teal')\n",
    "plt.bar(x + width/2, f1_by_age, width, label=\"Macro F1\", color='olive')\n",
    "\n",
    "# Apply display names to ticks\n",
    "plt.xticks(x, [display_names[g] for g in age_groups])\n",
    "plt.ylim(0, 1)\n",
    "plt.xlabel(\"Age Group\")\n",
    "plt.ylabel(\"Score\")\n",
    "plt.title(\"DQN – Accuracy and Macro F1 by Age Group\")\n",
    "plt.legend()\n",
    "plt.tight_layout()\n",
    "plt.show()"
   ]
  },
  {
   "cell_type": "code",
   "execution_count": null,
   "id": "25592868",
   "metadata": {},
   "outputs": [],
   "source": []
  }
 ],
 "metadata": {
  "kernelspec": {
   "display_name": "myenv (3.12.5)",
   "language": "python",
   "name": "python3"
  },
  "language_info": {
   "codemirror_mode": {
    "name": "ipython",
    "version": 3
   },
   "file_extension": ".py",
   "mimetype": "text/x-python",
   "name": "python",
   "nbconvert_exporter": "python",
   "pygments_lexer": "ipython3",
   "version": "3.12.5"
  }
 },
 "nbformat": 4,
 "nbformat_minor": 5
}
