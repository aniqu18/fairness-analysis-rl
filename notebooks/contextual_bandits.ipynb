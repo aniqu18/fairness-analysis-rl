{
 "cells": [
  {
   "cell_type": "code",
   "execution_count": 45,
   "id": "ae7a301e",
   "metadata": {},
   "outputs": [
    {
     "name": "stdout",
     "output_type": "stream",
     "text": [
      "✅ Simulation complete\n",
      "Approx. accuracy: 0.507\n"
     ]
    }
   ],
   "source": [
    "import pandas as pd\n",
    "import numpy as np\n",
    "from contextualbandits.online import LinUCB\n",
    "from sklearn.preprocessing import StandardScaler\n",
    "\n",
    "# === 1. Load and prepare data ===\n",
    "df = pd.read_csv(\"../data/Xy_train_resampled.csv\")\n",
    "\n",
    "# assuming last column is 'num'\n",
    "X = df.drop(columns=['num']).values\n",
    "y = df['num'].astype(int).values\n",
    "\n",
    "# scale features (recommended for LinUCB)\n",
    "\n",
    "# === 2. Initialize contextual bandit policy ===\n",
    "n_actions = len(np.unique(y))  # should be 5 (0–4)\n",
    "policy = LinUCB(nchoices=n_actions, alpha=0.3)\n",
    "\n",
    "# === 3. Simulate online learning ===\n",
    "preds, rewards = [], []\n",
    "\n",
    "for i in range(len(X)):\n",
    "    x_i = X[i].reshape(1, -1)  # needs 2D input\n",
    "    true_label = y[i]\n",
    "\n",
    "    # Predict (returns action indices)\n",
    "    chosen_action = policy.predict(x_i)[0]\n",
    "\n",
    "    # Reward: 1 if correct, else 0\n",
    "    reward = int(chosen_action == true_label)\n",
    "\n",
    "    # Update policy with this sample\n",
    "    policy.partial_fit(x_i, np.array([chosen_action]), np.array([reward]))\n",
    "\n",
    "    preds.append(chosen_action)\n",
    "    rewards.append(reward)\n",
    "\n",
    "# === 4. Store results ===\n",
    "results = pd.DataFrame({\n",
    "    \"true_label\": y,\n",
    "    \"predicted\": preds,\n",
    "    \"reward\": rewards\n",
    "})\n",
    "\n",
    "print(\"✅ Simulation complete\")\n",
    "print(f\"Approx. accuracy: {np.mean(results['true_label'] == results['predicted']):.3f}\")\n"
   ]
  },
  {
   "cell_type": "code",
   "execution_count": 28,
   "id": "77ed69ed",
   "metadata": {},
   "outputs": [
    {
     "data": {
      "application/vnd.microsoft.datawrangler.viewer.v0+json": {
       "columns": [
        {
         "name": "index",
         "rawType": "int64",
         "type": "integer"
        },
        {
         "name": "true_label",
         "rawType": "int64",
         "type": "integer"
        },
        {
         "name": "predicted",
         "rawType": "int64",
         "type": "integer"
        },
        {
         "name": "reward",
         "rawType": "int64",
         "type": "integer"
        }
       ],
       "ref": "51b972f6-4247-40d0-87ef-b38a78680f97",
       "rows": [
        [
         "0",
         "3",
         "1",
         "0"
        ],
        [
         "1",
         "0",
         "3",
         "0"
        ],
        [
         "2",
         "2",
         "3",
         "0"
        ],
        [
         "3",
         "1",
         "0",
         "0"
        ],
        [
         "4",
         "1",
         "1",
         "1"
        ],
        [
         "5",
         "0",
         "1",
         "0"
        ],
        [
         "6",
         "0",
         "1",
         "0"
        ],
        [
         "7",
         "1",
         "4",
         "0"
        ],
        [
         "8",
         "1",
         "4",
         "0"
        ],
        [
         "9",
         "1",
         "0",
         "0"
        ],
        [
         "10",
         "3",
         "2",
         "0"
        ],
        [
         "11",
         "0",
         "3",
         "0"
        ],
        [
         "12",
         "4",
         "1",
         "0"
        ],
        [
         "13",
         "0",
         "3",
         "0"
        ],
        [
         "14",
         "3",
         "1",
         "0"
        ],
        [
         "15",
         "1",
         "0",
         "0"
        ],
        [
         "16",
         "0",
         "4",
         "0"
        ],
        [
         "17",
         "1",
         "2",
         "0"
        ],
        [
         "18",
         "1",
         "2",
         "0"
        ],
        [
         "19",
         "2",
         "1",
         "0"
        ],
        [
         "20",
         "2",
         "0",
         "0"
        ],
        [
         "21",
         "2",
         "4",
         "0"
        ],
        [
         "22",
         "3",
         "3",
         "1"
        ],
        [
         "23",
         "1",
         "3",
         "0"
        ],
        [
         "24",
         "2",
         "3",
         "0"
        ],
        [
         "25",
         "0",
         "3",
         "0"
        ],
        [
         "26",
         "0",
         "4",
         "0"
        ],
        [
         "27",
         "1",
         "0",
         "0"
        ],
        [
         "28",
         "3",
         "2",
         "0"
        ],
        [
         "29",
         "0",
         "1",
         "0"
        ],
        [
         "30",
         "0",
         "1",
         "0"
        ],
        [
         "31",
         "0",
         "2",
         "0"
        ],
        [
         "32",
         "1",
         "0",
         "0"
        ],
        [
         "33",
         "3",
         "2",
         "0"
        ],
        [
         "34",
         "1",
         "3",
         "0"
        ],
        [
         "35",
         "4",
         "1",
         "0"
        ],
        [
         "36",
         "0",
         "4",
         "0"
        ],
        [
         "37",
         "0",
         "0",
         "1"
        ],
        [
         "38",
         "0",
         "0",
         "1"
        ],
        [
         "39",
         "1",
         "4",
         "0"
        ],
        [
         "40",
         "0",
         "1",
         "0"
        ],
        [
         "41",
         "1",
         "4",
         "0"
        ],
        [
         "42",
         "2",
         "3",
         "0"
        ],
        [
         "43",
         "0",
         "0",
         "1"
        ],
        [
         "44",
         "1",
         "2",
         "0"
        ],
        [
         "45",
         "0",
         "0",
         "1"
        ],
        [
         "46",
         "1",
         "2",
         "0"
        ],
        [
         "47",
         "1",
         "3",
         "0"
        ],
        [
         "48",
         "3",
         "0",
         "0"
        ],
        [
         "49",
         "2",
         "0",
         "0"
        ]
       ],
       "shape": {
        "columns": 3,
        "rows": 1645
       }
      },
      "text/html": [
       "<div>\n",
       "<style scoped>\n",
       "    .dataframe tbody tr th:only-of-type {\n",
       "        vertical-align: middle;\n",
       "    }\n",
       "\n",
       "    .dataframe tbody tr th {\n",
       "        vertical-align: top;\n",
       "    }\n",
       "\n",
       "    .dataframe thead th {\n",
       "        text-align: right;\n",
       "    }\n",
       "</style>\n",
       "<table border=\"1\" class=\"dataframe\">\n",
       "  <thead>\n",
       "    <tr style=\"text-align: right;\">\n",
       "      <th></th>\n",
       "      <th>true_label</th>\n",
       "      <th>predicted</th>\n",
       "      <th>reward</th>\n",
       "    </tr>\n",
       "  </thead>\n",
       "  <tbody>\n",
       "    <tr>\n",
       "      <th>0</th>\n",
       "      <td>3</td>\n",
       "      <td>1</td>\n",
       "      <td>0</td>\n",
       "    </tr>\n",
       "    <tr>\n",
       "      <th>1</th>\n",
       "      <td>0</td>\n",
       "      <td>3</td>\n",
       "      <td>0</td>\n",
       "    </tr>\n",
       "    <tr>\n",
       "      <th>2</th>\n",
       "      <td>2</td>\n",
       "      <td>3</td>\n",
       "      <td>0</td>\n",
       "    </tr>\n",
       "    <tr>\n",
       "      <th>3</th>\n",
       "      <td>1</td>\n",
       "      <td>0</td>\n",
       "      <td>0</td>\n",
       "    </tr>\n",
       "    <tr>\n",
       "      <th>4</th>\n",
       "      <td>1</td>\n",
       "      <td>1</td>\n",
       "      <td>1</td>\n",
       "    </tr>\n",
       "    <tr>\n",
       "      <th>...</th>\n",
       "      <td>...</td>\n",
       "      <td>...</td>\n",
       "      <td>...</td>\n",
       "    </tr>\n",
       "    <tr>\n",
       "      <th>1640</th>\n",
       "      <td>4</td>\n",
       "      <td>4</td>\n",
       "      <td>1</td>\n",
       "    </tr>\n",
       "    <tr>\n",
       "      <th>1641</th>\n",
       "      <td>4</td>\n",
       "      <td>4</td>\n",
       "      <td>1</td>\n",
       "    </tr>\n",
       "    <tr>\n",
       "      <th>1642</th>\n",
       "      <td>4</td>\n",
       "      <td>4</td>\n",
       "      <td>1</td>\n",
       "    </tr>\n",
       "    <tr>\n",
       "      <th>1643</th>\n",
       "      <td>4</td>\n",
       "      <td>4</td>\n",
       "      <td>1</td>\n",
       "    </tr>\n",
       "    <tr>\n",
       "      <th>1644</th>\n",
       "      <td>4</td>\n",
       "      <td>4</td>\n",
       "      <td>1</td>\n",
       "    </tr>\n",
       "  </tbody>\n",
       "</table>\n",
       "<p>1645 rows × 3 columns</p>\n",
       "</div>"
      ],
      "text/plain": [
       "      true_label  predicted  reward\n",
       "0              3          1       0\n",
       "1              0          3       0\n",
       "2              2          3       0\n",
       "3              1          0       0\n",
       "4              1          1       1\n",
       "...          ...        ...     ...\n",
       "1640           4          4       1\n",
       "1641           4          4       1\n",
       "1642           4          4       1\n",
       "1643           4          4       1\n",
       "1644           4          4       1\n",
       "\n",
       "[1645 rows x 3 columns]"
      ]
     },
     "execution_count": 28,
     "metadata": {},
     "output_type": "execute_result"
    }
   ],
   "source": [
    "results"
   ]
  },
  {
   "cell_type": "code",
   "execution_count": 29,
   "id": "075ec14c",
   "metadata": {},
   "outputs": [
    {
     "data": {
      "text/plain": [
       "5"
      ]
     },
     "execution_count": 29,
     "metadata": {},
     "output_type": "execute_result"
    }
   ],
   "source": [
    "n_actions"
   ]
  },
  {
   "cell_type": "code",
   "execution_count": 30,
   "id": "645b2e40",
   "metadata": {},
   "outputs": [
    {
     "data": {
      "image/png": "[encoded data removed]",
      "text/plain": [
       "<Figure size 1000x500 with 2 Axes>"
      ]
     },
     "metadata": {},
     "output_type": "display_data"
    }
   ],
   "source": [
    "import numpy as np\n",
    "import matplotlib.pyplot as plt\n",
    "\n",
    "# Assume `bandit` is your trained model and you used something like:\n",
    "# results = bandit.fit_predict(X, y)\n",
    "# or evaluate(X, y)\n",
    "\n",
    "# If you already have your true labels and predictions:\n",
    "rewards = (preds == y).astype(int)  # 1 = correct prediction, 0 = incorrect\n",
    "\n",
    "# Cumulative rewards over time\n",
    "cumulative_rewards = np.cumsum(rewards)\n",
    "\n",
    "# Rolling average reward (for smoother curve)\n",
    "window = 100\n",
    "rolling_avg = np.convolve(rewards, np.ones(window)/window, mode='valid')\n",
    "\n",
    "\n",
    "plt.figure(figsize=(10, 5))\n",
    "\n",
    "plt.subplot(1, 2, 1)\n",
    "plt.plot(cumulative_rewards)\n",
    "plt.title(\"Cumulative Rewards Over Time\")\n",
    "plt.xlabel(\"Rounds (patients)\")\n",
    "plt.ylabel(\"Total Reward\")\n",
    "\n",
    "plt.subplot(1, 2, 2)\n",
    "plt.plot(rolling_avg)\n",
    "plt.title(f\"Rolling Average Reward (window={window})\")\n",
    "plt.xlabel(\"Rounds (patients)\")\n",
    "plt.ylabel(\"Average Reward\")\n",
    "\n",
    "plt.tight_layout()\n",
    "plt.show()\n",
    "\n"
   ]
  },
  {
   "cell_type": "code",
   "execution_count": 31,
   "id": "e0fb0e1b",
   "metadata": {},
   "outputs": [
    {
     "ename": "KeyError",
     "evalue": "'sex'",
     "output_type": "error",
     "traceback": [
      "\u001b[31m---------------------------------------------------------------------------\u001b[39m",
      "\u001b[31mKeyError\u001b[39m                                  Traceback (most recent call last)",
      "\u001b[36mFile \u001b[39m\u001b[32m/opt/miniconda3/envs/fariness-analysis-rl/lib/python3.11/site-packages/pandas/core/indexes/base.py:3812\u001b[39m, in \u001b[36mIndex.get_loc\u001b[39m\u001b[34m(self, key)\u001b[39m\n\u001b[32m   3811\u001b[39m \u001b[38;5;28;01mtry\u001b[39;00m:\n\u001b[32m-> \u001b[39m\u001b[32m3812\u001b[39m     \u001b[38;5;28;01mreturn\u001b[39;00m \u001b[38;5;28;43mself\u001b[39;49m\u001b[43m.\u001b[49m\u001b[43m_engine\u001b[49m\u001b[43m.\u001b[49m\u001b[43mget_loc\u001b[49m\u001b[43m(\u001b[49m\u001b[43mcasted_key\u001b[49m\u001b[43m)\u001b[49m\n\u001b[32m   3813\u001b[39m \u001b[38;5;28;01mexcept\u001b[39;00m \u001b[38;5;167;01mKeyError\u001b[39;00m \u001b[38;5;28;01mas\u001b[39;00m err:\n",
      "\u001b[36mFile \u001b[39m\u001b[32mpandas/_libs/index.pyx:167\u001b[39m, in \u001b[36mpandas._libs.index.IndexEngine.get_loc\u001b[39m\u001b[34m()\u001b[39m\n",
      "\u001b[36mFile \u001b[39m\u001b[32mpandas/_libs/index.pyx:196\u001b[39m, in \u001b[36mpandas._libs.index.IndexEngine.get_loc\u001b[39m\u001b[34m()\u001b[39m\n",
      "\u001b[36mFile \u001b[39m\u001b[32mpandas/_libs/hashtable_class_helper.pxi:7088\u001b[39m, in \u001b[36mpandas._libs.hashtable.PyObjectHashTable.get_item\u001b[39m\u001b[34m()\u001b[39m\n",
      "\u001b[36mFile \u001b[39m\u001b[32mpandas/_libs/hashtable_class_helper.pxi:7096\u001b[39m, in \u001b[36mpandas._libs.hashtable.PyObjectHashTable.get_item\u001b[39m\u001b[34m()\u001b[39m\n",
      "\u001b[31mKeyError\u001b[39m: 'sex'",
      "\nThe above exception was the direct cause of the following exception:\n",
      "\u001b[31mKeyError\u001b[39m                                  Traceback (most recent call last)",
      "\u001b[36mCell\u001b[39m\u001b[36m \u001b[39m\u001b[32mIn[31]\u001b[39m\u001b[32m, line 13\u001b[39m\n\u001b[32m     11\u001b[39m \u001b[38;5;66;03m# Protected attribute\u001b[39;00m\n\u001b[32m     12\u001b[39m protected_attr = \u001b[33m\"\u001b[39m\u001b[33msex\u001b[39m\u001b[33m\"\u001b[39m\n\u001b[32m---> \u001b[39m\u001b[32m13\u001b[39m groups = \u001b[43mdf\u001b[49m\u001b[43m[\u001b[49m\u001b[43mprotected_attr\u001b[49m\u001b[43m]\u001b[49m.unique()\n\u001b[32m     15\u001b[39m metrics = {}\n\u001b[32m     16\u001b[39m \u001b[38;5;28;01mfor\u001b[39;00m g \u001b[38;5;129;01min\u001b[39;00m groups:\n",
      "\u001b[36mFile \u001b[39m\u001b[32m/opt/miniconda3/envs/fariness-analysis-rl/lib/python3.11/site-packages/pandas/core/frame.py:4113\u001b[39m, in \u001b[36mDataFrame.__getitem__\u001b[39m\u001b[34m(self, key)\u001b[39m\n\u001b[32m   4111\u001b[39m \u001b[38;5;28;01mif\u001b[39;00m \u001b[38;5;28mself\u001b[39m.columns.nlevels > \u001b[32m1\u001b[39m:\n\u001b[32m   4112\u001b[39m     \u001b[38;5;28;01mreturn\u001b[39;00m \u001b[38;5;28mself\u001b[39m._getitem_multilevel(key)\n\u001b[32m-> \u001b[39m\u001b[32m4113\u001b[39m indexer = \u001b[38;5;28;43mself\u001b[39;49m\u001b[43m.\u001b[49m\u001b[43mcolumns\u001b[49m\u001b[43m.\u001b[49m\u001b[43mget_loc\u001b[49m\u001b[43m(\u001b[49m\u001b[43mkey\u001b[49m\u001b[43m)\u001b[49m\n\u001b[32m   4114\u001b[39m \u001b[38;5;28;01mif\u001b[39;00m is_integer(indexer):\n\u001b[32m   4115\u001b[39m     indexer = [indexer]\n",
      "\u001b[36mFile \u001b[39m\u001b[32m/opt/miniconda3/envs/fariness-analysis-rl/lib/python3.11/site-packages/pandas/core/indexes/base.py:3819\u001b[39m, in \u001b[36mIndex.get_loc\u001b[39m\u001b[34m(self, key)\u001b[39m\n\u001b[32m   3814\u001b[39m     \u001b[38;5;28;01mif\u001b[39;00m \u001b[38;5;28misinstance\u001b[39m(casted_key, \u001b[38;5;28mslice\u001b[39m) \u001b[38;5;129;01mor\u001b[39;00m (\n\u001b[32m   3815\u001b[39m         \u001b[38;5;28misinstance\u001b[39m(casted_key, abc.Iterable)\n\u001b[32m   3816\u001b[39m         \u001b[38;5;129;01mand\u001b[39;00m \u001b[38;5;28many\u001b[39m(\u001b[38;5;28misinstance\u001b[39m(x, \u001b[38;5;28mslice\u001b[39m) \u001b[38;5;28;01mfor\u001b[39;00m x \u001b[38;5;129;01min\u001b[39;00m casted_key)\n\u001b[32m   3817\u001b[39m     ):\n\u001b[32m   3818\u001b[39m         \u001b[38;5;28;01mraise\u001b[39;00m InvalidIndexError(key)\n\u001b[32m-> \u001b[39m\u001b[32m3819\u001b[39m     \u001b[38;5;28;01mraise\u001b[39;00m \u001b[38;5;167;01mKeyError\u001b[39;00m(key) \u001b[38;5;28;01mfrom\u001b[39;00m\u001b[38;5;250m \u001b[39m\u001b[34;01merr\u001b[39;00m\n\u001b[32m   3820\u001b[39m \u001b[38;5;28;01mexcept\u001b[39;00m \u001b[38;5;167;01mTypeError\u001b[39;00m:\n\u001b[32m   3821\u001b[39m     \u001b[38;5;66;03m# If we have a listlike key, _check_indexing_error will raise\u001b[39;00m\n\u001b[32m   3822\u001b[39m     \u001b[38;5;66;03m#  InvalidIndexError. Otherwise we fall through and re-raise\u001b[39;00m\n\u001b[32m   3823\u001b[39m     \u001b[38;5;66;03m#  the TypeError.\u001b[39;00m\n\u001b[32m   3824\u001b[39m     \u001b[38;5;28mself\u001b[39m._check_indexing_error(key)\n",
      "\u001b[31mKeyError\u001b[39m: 'sex'"
     ]
    }
   ],
   "source": [
    "import pandas as pd\n",
    "from sklearn.metrics import accuracy_score, recall_score\n",
    "\n",
    "# Load your dataset and predictions\n",
    "df = pd.read_csv(\"../data/Xy_train_resampled.csv\")\n",
    "\n",
    "# Add model predictions (assuming `preds` is a numpy array)\n",
    "df[\"pred\"] = preds  # from your trained bandit model\n",
    "df[\"true\"] = df[\"num\"]  # ground truth target\n",
    "\n",
    "# Protected attribute\n",
    "protected_attr = \"sex\"\n",
    "groups = df[protected_attr].unique()\n",
    "\n",
    "metrics = {}\n",
    "for g in groups:\n",
    "    group_df = df[df[protected_attr] == g]\n",
    "    acc = accuracy_score(group_df[\"true\"], group_df[\"pred\"])\n",
    "    rec = recall_score(group_df[\"true\"], group_df[\"pred\"], average=\"macro\")  # across all 5 classes\n",
    "    metrics[g] = {\"accuracy\": acc, \"recall\": rec}\n",
    "\n",
    "metrics_df = pd.DataFrame(metrics).T\n",
    "print(metrics_df)\n"
   ]
  }
 ],
 "metadata": {
  "kernelspec": {
   "display_name": "fariness-analysis-rl",
   "language": "python",
   "name": "python3"
  },
  "language_info": {
   "codemirror_mode": {
    "name": "ipython",
    "version": 3
   },
   "file_extension": ".py",
   "mimetype": "text/x-python",
   "name": "python",
   "nbconvert_exporter": "python",
   "pygments_lexer": "ipython3",
   "version": "3.11.13"
  }
 },
 "nbformat": 4,
 "nbformat_minor": 5
}
